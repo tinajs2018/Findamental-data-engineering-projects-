{
 "cells": [
  {
   "cell_type": "markdown",
   "metadata": {},
   "source": [
    "Step 1 :Install PostgreSQL: First, you'll need to install PostgreSQL on your computer. You can download the installer from the official website and follow the installation instruction"
   ]
  },
  {
   "cell_type": "markdown",
   "metadata": {},
   "source": [
    "Step 2 :Create a new database: Once PostgreSQL is installed, open pgAdmin, which is a graphical user interface for managing PostgreSQL databases. Right-click on the \"Databases\" option in the left sidebar and select \"Create > Database\". Give your database a name, such as \"blog_db\", and click \"Save\""
   ]
  },
  {
   "cell_type": "markdown",
   "metadata": {},
   "source": [
    " STep 3:Install necessary packages: Install the necessary packages, including psycopg2 \n",
    "(a Python library for working with PostgreSQL),\n",
    "by running the following command in a code cell:"
   ]
  },
  {
   "cell_type": "code",
   "execution_count": 1,
   "metadata": {},
   "outputs": [],
   "source": [
    "# !pip install psycopg2"
   ]
  },
  {
   "cell_type": "markdown",
   "metadata": {},
   "source": [
    "\n",
    "Step 4: Connect to the database"
   ]
  },
  {
   "cell_type": "code",
   "execution_count": 2,
   "metadata": {},
   "outputs": [],
   "source": [
    "import psycopg2"
   ]
  },
  {
   "cell_type": "code",
   "execution_count": 31,
   "metadata": {},
   "outputs": [],
   "source": [
    "#creating a connection \n",
    "conn = psycopg2.connect(\n",
    "    host=\"localhost\",\n",
    "    database=\"blog_db\",\n",
    "    user=\"postgres\",\n",
    "    password=\"karimi2018\"\n",
    ")\n"
   ]
  },
  {
   "cell_type": "markdown",
   "metadata": {},
   "source": [
    "Step 5 :Create tables: Create two tables, one for storing blog posts and another for storing user information. "
   ]
  },
  {
   "cell_type": "code",
   "execution_count": 18,
   "metadata": {},
   "outputs": [],
   "source": [
    "# cur=conn.cursor()\n",
    "# cur.execute(\"\"\"\n",
    "# CREATE TABLE posts(\n",
    "#     id SERIAL PRIMARY KEY,\n",
    "#     title VARCHAR(255) NOT NULL,\n",
    "#     Content TEXT NOT NULL,\n",
    "#     created_at TIMESTAMP NOT NULL DEFAULT NOW(),\n",
    "#   \n",
    "# );\n",
    "# \"\"\")\n",
    "\n",
    "# conn.commit()\n",
    "\n",
    "\n",
    "cur = conn.cursor()\n",
    "\n",
    "cur.execute(\"\"\"\n",
    "CREATE TABLE posts1 (\n",
    "    id SERIAL PRIMARY KEY,\n",
    "    title VARCHAR(255)  NOT NULL,\n",
    "    content TEXT NOT NULL,\n",
    "    created_at TIMESTAMP NOT NULL DEFAULT NOW()\n",
    "   \n",
    ");\n",
    "\"\"\")\n",
    "\n",
    "conn.commit()\n"
   ]
  },
  {
   "cell_type": "code",
   "execution_count": 22,
   "metadata": {},
   "outputs": [],
   "source": [
    "# create the \"users\" table:\n",
    "\n",
    "cur=conn.cursor()\n",
    "cur.execute(\"\"\"\n",
    "CREATE TABLE Users(\n",
    "    id SERIAL PRIMARY KEY,\n",
    "    Username VARCHAR(50) UNIQUE NOT NULL,\n",
    "    Email  VARCHAR(255) UNIQUE NOT NULL,\n",
    "    password VARCHAR(255) NOT NULL\n",
    "\n",
    ");\"\"\")\n",
    "conn.commit()"
   ]
  },
  {
   "cell_type": "code",
   "execution_count": 24,
   "metadata": {},
   "outputs": [],
   "source": [
    "# Insert data: Insert some sample data into the \"users\" table \n",
    "cur= conn.cursor()\n",
    "cur.execute(\"\"\"\n",
    "INSERT INTO Users(Username,Email,password) VALUES\n",
    "    ('Kam','kam@gmnail.com','12345'),\n",
    "    ('karimi' ,'karimi@1234.com', '45668'),\n",
    "    ('denni','denni@gmailc,om','1234');\n",
    "\"\"\")\n",
    "conn.commit()"
   ]
  },
  {
   "cell_type": "code",
   "execution_count": 27,
   "metadata": {},
   "outputs": [
    {
     "name": "stdout",
     "output_type": "stream",
     "text": [
      "(1, 'Kam', 'kam@gmnail.com', '12345')\n",
      "(2, 'karimi', 'karimi@1234.com', '45668')\n",
      "(3, 'denni', 'denni@gmailc,om', '1234')\n"
     ]
    }
   ],
   "source": [
    "# Query data: Retrieve the data from the \"users\" table\n",
    "\n",
    "cur =conn.cursor()\n",
    "cur.execute('SELECT * FROM Users;')\n",
    "rows=cur.fetchall()\n",
    "for row in rows :\n",
    "\n",
    "    print(row)\n",
    "\n"
   ]
  },
  {
   "cell_type": "code",
   "execution_count": 32,
   "metadata": {},
   "outputs": [],
   "source": [
    "cur = conn.cursor()\n",
    "\n",
    "cur.execute(\"\"\"\n",
    "INSERT INTO posts (title, content) VALUES\n",
    "    ('My First Blog Post', 'This is my first blog post!');\n",
    "\"\"\")\n",
    "\n",
    "conn.commit()\n"
   ]
  },
  {
   "cell_type": "code",
   "execution_count": 33,
   "metadata": {},
   "outputs": [
    {
     "name": "stdout",
     "output_type": "stream",
     "text": [
      "(1, 'My First Blog Post', 'This is my first blog post!', datetime.datetime(2023, 3, 19, 12, 48, 4, 612869))\n"
     ]
    }
   ],
   "source": [
    "cur = conn.cursor()\n",
    "\n",
    "cur.execute(\"SELECT * FROM posts;\")\n",
    "\n",
    "rows = cur.fetchall()\n",
    "\n",
    "for row in rows:\n",
    "    print(row)\n"
   ]
  },
  {
   "cell_type": "code",
   "execution_count": null,
   "metadata": {},
   "outputs": [],
   "source": []
  }
 ],
 "metadata": {
  "kernelspec": {
   "display_name": "Python 3 (ipykernel)",
   "language": "python",
   "name": "python3"
  },
  "language_info": {
   "codemirror_mode": {
    "name": "ipython",
    "version": 3
   },
   "file_extension": ".py",
   "mimetype": "text/x-python",
   "name": "python",
   "nbconvert_exporter": "python",
   "pygments_lexer": "ipython3",
   "version": "3.7.6"
  }
 },
 "nbformat": 4,
 "nbformat_minor": 4
}
